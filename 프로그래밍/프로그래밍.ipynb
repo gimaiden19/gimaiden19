{
 "cells": [
  {
   "cell_type": "code",
   "execution_count": null,
   "id": "dd469c3b",
   "metadata": {
    "vscode": {
     "languageId": "plaintext"
    }
   },
   "outputs": [],
   "source": [
    "print('hello,world')"
   ]
  },
  {
   "cell_type": "code",
   "execution_count": null,
   "id": "6c84d875",
   "metadata": {
    "vscode": {
     "languageId": "plaintext"
    }
   },
   "outputs": [],
   "source": []
  }
 ],
 "metadata": {
  "language_info": {
   "name": "python"
  }
 },
 "nbformat": 4,
 "nbformat_minor": 5
}
